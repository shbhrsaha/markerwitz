{
 "cells": [
  {
   "cell_type": "code",
   "execution_count": 2,
   "metadata": {
    "collapsed": true
   },
   "outputs": [],
   "source": [
    "import sys\n",
    "import cv2\n",
    "import numpy as np"
   ]
  },
  {
   "cell_type": "code",
   "execution_count": 4,
   "metadata": {
    "collapsed": false
   },
   "outputs": [],
   "source": [
    "def gray_canny(img_original):\n",
    "    \"\"\"\n",
    "        Run grayscale and canny edge detector to simplify an image\n",
    "    \"\"\"\n",
    "    gray = cv2.cvtColor(img,cv2.COLOR_BGR2GRAY)\n",
    "    canny = cv2.Canny(gray,100,100,apertureSize = 3)\n",
    "\n",
    "    return canny\n",
    "\n",
    "def draw_corners(img_original):\n",
    "    \"\"\"\n",
    "        Draws corners over and returns the image\n",
    "    \"\"\"\n",
    "    img = gray_canny(img_original)\n",
    "\n",
    "    img = np.float32(img)\n",
    "    dst = cv2.cornerHarris(img,2,3,0.04)\n",
    "\n",
    "    dst = cv2.dilate(dst,None)\n",
    "\n",
    "    # Threshold for an optimal value, it may vary depending on the image.\n",
    "    img[dst>0.01*dst.max()]=[0,0,255]\n",
    "\n",
    "    return img\n",
    "\n",
    "def draw_contours(img_original):\n",
    "    \"\"\"\n",
    "        Contours\n",
    "    \"\"\"\n",
    "    img = gray_canny(img_original)\n",
    "    contours, hierarchy = cv2.findContours(img,cv2.RETR_TREE,cv2.CHAIN_APPROX_SIMPLE)\n",
    "\n",
    "    cv2.drawContours(img_original,contours,-1,(0,255,0),3)\n",
    "\n",
    "    return img_original\n",
    "\n",
    "def draw_lines(img_original):\n",
    "    \"\"\"\n",
    "        Draws Hough lines over and returns the image\n",
    "    \"\"\"\n",
    "    img = gray_canny(img_original)\n",
    "    minLineLength = 100\n",
    "    maxLineGap = 10\n",
    "    lines = cv2.HoughLinesP(img,1,np.pi/180,200,minLineLength,maxLineGap)\n",
    "    for x1,y1,x2,y2 in lines[0]:\n",
    "        cv2.line(img_original,(x1,y1),(x2,y2),(0,255,0),2)\n",
    "\n",
    "    return img_original\n",
    "\n",
    "def draw_broad_lines(img_original):\n",
    "    \"\"\"\n",
    "        Aggregates and extends the lines drawn in draw_lines()\n",
    "        to the edges of the screen\n",
    "    \"\"\"\n",
    "    shape = img_original.shape\n",
    "    height = shape[0]\n",
    "    width = shape[1]\n",
    "\n",
    "    img = gray_canny(img_original)\n",
    "    minLineLength = 100\n",
    "    maxLineGap = 10\n",
    "    lines = cv2.HoughLinesP(img,1,np.pi/180,200,minLineLength,maxLineGap)[0].tolist()\n",
    "\n",
    "    # discard lines that are neither horizontal nor vertical\n",
    "    lines_horizontal = [line for line in lines if line[1] == line[3]]\n",
    "    lines_vertical = [line for line in lines if line[0] == line[2]]\n",
    "\n",
    "    # extend horizontal and vertical lines to the edges of the screen\n",
    "    lines_horizontal_ext = [[0, line[1], width, line[3]] for line in lines_horizontal]\n",
    "    lines_vertical_ext = [[line[0], 0, line[2], height] for line in lines_vertical]\n",
    "\n",
    "    # convert to strings and deduplicate\n",
    "    lines_horizontal_ext_unique = [[int(x) for x in line_string.split(\",\")] for line_string in list(set([\",\".join([str(x) for x in line]) for line in lines_horizontal_ext]))]\n",
    "    lines_vertical_ext_unique = [[int(x) for x in line_string.split(\",\")] for line_string in list(set([\",\".join([str(x) for x in line]) for line in lines_vertical_ext]))]\n",
    "\n",
    "    lines_broad = lines_horizontal_ext_unique + lines_vertical_ext_unique\n",
    "\n",
    "    for x1,y1,x2,y2 in lines_broad:\n",
    "        cv2.line(img_original,(x1,y1),(x2,y2),(0,255,0),2)\n",
    "\n",
    "    return img_original"
   ]
  },
  {
   "cell_type": "code",
   "execution_count": null,
   "metadata": {
    "collapsed": true
   },
   "outputs": [],
   "source": []
  }
 ],
 "metadata": {
  "kernelspec": {
   "display_name": "Python 2",
   "language": "python",
   "name": "python2"
  },
  "language_info": {
   "codemirror_mode": {
    "name": "ipython",
    "version": 2
   },
   "file_extension": ".py",
   "mimetype": "text/x-python",
   "name": "python",
   "nbconvert_exporter": "python",
   "pygments_lexer": "ipython2",
   "version": "2.7.9"
  }
 },
 "nbformat": 4,
 "nbformat_minor": 0
}
